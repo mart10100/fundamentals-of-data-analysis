{
 "cells": [
  {
   "cell_type": "markdown",
   "metadata": {},
   "source": []
  },
  {
   "cell_type": "code",
   "execution_count": null,
   "metadata": {},
   "outputs": [],
   "source": []
  },
  {
   "cell_type": "markdown",
   "metadata": {},
   "source": [
    "# Fundamentals of Data Analysis Tasks\n",
    "\n",
    "Matthew Arthur. \n",
    "***\n"
   ]
  },
  {
   "cell_type": "markdown",
   "metadata": {},
   "source": [
    "## Task 1\n",
    "\n",
    ">The Collatz conjecture1 is a famous unsolved problem in mathematics. The problem is to prove that if you start with any positive\n",
    "integer $x$ and repeatedly apply the function $f(x)$ below, you always get stuck in the repeating sequence 1, 4, 2, ...\n",
    "\n",
    "$f(x) =$\n",
    "       $x ÷ 2$ if x is even, \n",
    "       $3x + 1$ otherwise\n",
    "\n"
   ]
  },
  {
   "cell_type": "markdown",
   "metadata": {},
   "source": [
    "This first section below was taken from the course material. It uses if/else statements to determine how an input 'x' is processed, depending on whether the number is odd or even. If even, it is divided by 2, if odd it is multiplied by three and then 1 is added. The brackets are used to avoid any confusion in the order of the operations. The iteration of the number through each outcome of the if else statement within the function is completed by the next piece of code. "
   ]
  },
  {
   "cell_type": "code",
   "execution_count": 3,
   "metadata": {},
   "outputs": [],
   "source": [
    "def f(x):\n",
    "    #If x is even, divide by two: \n",
    "    if abs(x) % 2 == 0: \n",
    "        return x // 2\n",
    "    else: \n",
    "        return (3 * x) + 1"
   ]
  },
  {
   "cell_type": "markdown",
   "metadata": {},
   "source": [
    "This section of code was also taken from the course content and modified to work for the task. It is a function that contains a while loop. The function 'collatz' runs as long as x is not equal to 1 -> the end of the Collatz sequence where the repeating sequence 1, 4, 2, 1, 4, 2,... continues indefinitely. Stopping at one shows that it does in fact get to one, but prevents the indefinite loop. It then prints the variable 'x', and adds a comma and a space to the end of the output 'x' value. 'x' is then defined as the previous function, 'f(x)'. This applies the function, and therefore the collatz rules to the current 'x' value. After the loop is completed (i.e. when x is equal to one), it prints the final 'x' value (1) without the comma and space. "
   ]
  },
  {
   "cell_type": "code",
   "execution_count": 1,
   "metadata": {},
   "outputs": [],
   "source": [
    "def collatz(x):\n",
    "        while x  != 1:\n",
    "            print(x, end = ', ')\n",
    "            x = f(x)\n",
    "        print(x) "
   ]
  },
  {
   "cell_type": "markdown",
   "metadata": {},
   "source": [
    "The next section of code uses a for loop to iterate through all the numbers in the range of 1 to 10,000, using the 'range()' statement. It iterates through each number, printing the message of the f-string with the number with a comma and space at the end, similarly to the collatz funtion. The collatz function previously shown above is then applied to each 'number' in the for loop. The final 'print()' is there to separate each collatz sequence with a line space, to make it easier to read. "
   ]
  },
  {
   "cell_type": "code",
   "execution_count": 3,
   "metadata": {},
   "outputs": [
    {
     "name": "stdout",
     "output_type": "stream",
     "text": [
      "Collatz sequence for 1: 1\n",
      "\n",
      "Collatz sequence for 2: 2, "
     ]
    },
    {
     "ename": "NameError",
     "evalue": "name 'f' is not defined",
     "output_type": "error",
     "traceback": [
      "\u001b[1;31m---------------------------------------------------------------------------\u001b[0m",
      "\u001b[1;31mNameError\u001b[0m                                 Traceback (most recent call last)",
      "\u001b[1;32mc:\\Users\\arthurma\\College\\fundamentals-of-data-analysis\\tasks.ipynb Cell 10\u001b[0m line \u001b[0;36m3\n\u001b[0;32m      <a href='vscode-notebook-cell:/c%3A/Users/arthurma/College/fundamentals-of-data-analysis/tasks.ipynb#X10sZmlsZQ%3D%3D?line=0'>1</a>\u001b[0m \u001b[39mfor\u001b[39;00m number \u001b[39min\u001b[39;00m \u001b[39mrange\u001b[39m(\u001b[39m1\u001b[39m,\u001b[39m10001\u001b[39m):\n\u001b[0;32m      <a href='vscode-notebook-cell:/c%3A/Users/arthurma/College/fundamentals-of-data-analysis/tasks.ipynb#X10sZmlsZQ%3D%3D?line=1'>2</a>\u001b[0m     \u001b[39mprint\u001b[39m(\u001b[39mf\u001b[39m\u001b[39m'\u001b[39m\u001b[39mCollatz sequence for \u001b[39m\u001b[39m{\u001b[39;00mnumber\u001b[39m}\u001b[39;00m\u001b[39m: \u001b[39m\u001b[39m'\u001b[39m, end\u001b[39m=\u001b[39m \u001b[39m'\u001b[39m\u001b[39m'\u001b[39m)\n\u001b[1;32m----> <a href='vscode-notebook-cell:/c%3A/Users/arthurma/College/fundamentals-of-data-analysis/tasks.ipynb#X10sZmlsZQ%3D%3D?line=2'>3</a>\u001b[0m     collatz(number)\n\u001b[0;32m      <a href='vscode-notebook-cell:/c%3A/Users/arthurma/College/fundamentals-of-data-analysis/tasks.ipynb#X10sZmlsZQ%3D%3D?line=3'>4</a>\u001b[0m     \u001b[39mprint\u001b[39m()\n",
      "\u001b[1;32mc:\\Users\\arthurma\\College\\fundamentals-of-data-analysis\\tasks.ipynb Cell 10\u001b[0m line \u001b[0;36m4\n\u001b[0;32m      <a href='vscode-notebook-cell:/c%3A/Users/arthurma/College/fundamentals-of-data-analysis/tasks.ipynb#X10sZmlsZQ%3D%3D?line=1'>2</a>\u001b[0m \u001b[39mwhile\u001b[39;00m x  \u001b[39m!=\u001b[39m \u001b[39m1\u001b[39m:\n\u001b[0;32m      <a href='vscode-notebook-cell:/c%3A/Users/arthurma/College/fundamentals-of-data-analysis/tasks.ipynb#X10sZmlsZQ%3D%3D?line=2'>3</a>\u001b[0m     \u001b[39mprint\u001b[39m(x, end \u001b[39m=\u001b[39m \u001b[39m'\u001b[39m\u001b[39m, \u001b[39m\u001b[39m'\u001b[39m)\n\u001b[1;32m----> <a href='vscode-notebook-cell:/c%3A/Users/arthurma/College/fundamentals-of-data-analysis/tasks.ipynb#X10sZmlsZQ%3D%3D?line=3'>4</a>\u001b[0m     x \u001b[39m=\u001b[39m f(x)\n\u001b[0;32m      <a href='vscode-notebook-cell:/c%3A/Users/arthurma/College/fundamentals-of-data-analysis/tasks.ipynb#X10sZmlsZQ%3D%3D?line=4'>5</a>\u001b[0m \u001b[39mprint\u001b[39m(x)\n",
      "\u001b[1;31mNameError\u001b[0m: name 'f' is not defined"
     ]
    }
   ],
   "source": [
    "for number in range(1,10001):\n",
    "    print(f'Collatz sequence for {number}: ', end= '')\n",
    "    collatz(number)\n",
    "    print()"
   ]
  },
  {
   "cell_type": "markdown",
   "metadata": {},
   "source": [
    "This code applies the collatz conjecture to all the numbers from 1 to 10,000, with each ending in one. Therefore this proves that the conjecture is true for the first 10,000 integers. "
   ]
  },
  {
   "cell_type": "markdown",
   "metadata": {},
   "source": [
    "***\n",
    "\n",
    "## End"
   ]
  }
 ],
 "metadata": {
  "kernelspec": {
   "display_name": "Python 3",
   "language": "python",
   "name": "python3"
  },
  "language_info": {
   "codemirror_mode": {
    "name": "ipython",
    "version": 3
   },
   "file_extension": ".py",
   "mimetype": "text/x-python",
   "name": "python",
   "nbconvert_exporter": "python",
   "pygments_lexer": "ipython3",
   "version": "3.12.0"
  }
 },
 "nbformat": 4,
 "nbformat_minor": 2
}
